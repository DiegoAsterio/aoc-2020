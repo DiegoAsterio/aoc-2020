{
 "cells": [
  {
   "cell_type": "code",
   "execution_count": 50,
   "metadata": {},
   "outputs": [],
   "source": [
    "from sage.arith.misc import CRT_list"
   ]
  },
  {
   "cell_type": "code",
   "execution_count": 51,
   "metadata": {},
   "outputs": [],
   "source": [
    "def load_bus_order(path):\n",
    "    with open(path) as f:\n",
    "        inp = f.read().strip().split('\\n')\n",
    "    buses = []\n",
    "    order = []\n",
    "    for i, x in enumerate(inp[1].split(',')):\n",
    "        if x != 'x':\n",
    "            buses.append(int(x))\n",
    "            order.append(i)\n",
    "    return buses, order"
   ]
  },
  {
   "cell_type": "code",
   "execution_count": 52,
   "metadata": {},
   "outputs": [],
   "source": [
    "path = \"2020_12_12.input\"\n",
    "buses, order = load_bus_order(path)"
   ]
  },
  {
   "cell_type": "code",
   "execution_count": 53,
   "metadata": {},
   "outputs": [
    {
     "data": {
      "text/plain": [
       "526090562196173"
      ]
     },
     "execution_count": 53,
     "metadata": {},
     "output_type": "execute_result"
    }
   ],
   "source": [
    "n_moduli_i = [-x for x in order]\n",
    "n0 = CRT_list(n_moduli_i, buses)\n",
    "n0"
   ]
  }
 ],
 "metadata": {
  "kernelspec": {
   "display_name": "SageMath 9.2",
   "language": "sage",
   "name": "sagemath"
  },
  "language_info": {
   "codemirror_mode": {
    "name": "ipython",
    "version": 3
   },
   "file_extension": ".py",
   "mimetype": "text/x-python",
   "name": "python",
   "nbconvert_exporter": "python",
   "pygments_lexer": "ipython3",
   "version": "3.8.6"
  }
 },
 "nbformat": 4,
 "nbformat_minor": 4
}
